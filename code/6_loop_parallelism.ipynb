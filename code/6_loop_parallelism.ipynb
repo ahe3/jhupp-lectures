{
 "cells": [
  {
   "cell_type": "markdown",
   "metadata": {},
   "source": [
    "### Loop Parallelism\n",
    "\n",
    "Loop parallelism is a form of parallelism and _programming pattern_ that derives parallel tasks from the iterations of loops.\n",
    "\n",
    "* Most common use and programming pattern for OpenMP\n",
    "  * add parallel directives to a for loop\n",
    "  * OpenMP divides the loops iterations into _chunks_ assigned to threads\n",
    "* Serial equivalence ensures that the parallel computation is correct\n",
    "  * \n"
   ]
  }
 ],
 "metadata": {
  "kernelspec": {
   "display_name": "C++11",
   "language": "C++11",
   "name": "xeus-cling-cpp11"
  },
  "language_info": {
   "codemirror_mode": "text/x-c++src",
   "file_extension": ".cpp",
   "mimetype": "text/x-c++src",
   "name": "c++",
   "version": "-std=c++11"
  }
 },
 "nbformat": 4,
 "nbformat_minor": 2
}

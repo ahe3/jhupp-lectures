{
 "cells": [
  {
   "cell_type": "markdown",
   "metadata": {},
   "source": [
    "## Factors against Parallelism\n",
    "\n",
    "* Startup costs associated with initiating processes\n",
    "  * May often overwhelm actual processing time (rendering ||ism useless)\n",
    "  * Involve thread/process creation, data movement\n",
    "\n",
    "* Interference: slowdown resulting from multiple processors accessing shared resources\n",
    "  * Resources: memory, I/O, system bus, sub-processors\n",
    "  * Software synchronization: locks, latches, mutex, barriers\n",
    "  * Hardware synchronization: cache faults, interrupts\n",
    "\n",
    "* Skew: when breaking a single task into many smaller tasks, not all tasks may be the same size\n",
    "  * Not all tasks finish at the same time\n",
    "  \n",
    "### Understanding Factors by Analogy\n",
    "\n",
    "#### Startup\n",
    "\n",
    "* Szkieletor in Krakow Poland\n",
    "  * Too expensive to complete or demolish\n",
    "* Why is this like a parallel computer?\n",
    "    * It is a parallel living environment\n",
    "    * The parallel living throughput is 0 because of startup\n",
    "    \n",
    "<img src=\"./images/sz.png\" width=\"300\" title=\"http://en.wikipedia.org/wiki/File:Szkieletor2.jpg\" />\n",
    "\n",
    "    \n",
    "#### Interference: \n",
    "\n",
    "* Congested intersections\n",
    "  * mulitple vehicles compete for same resource (lanes in roundabout)\n",
    "  * others await resources\n",
    "* This is a parallel driving environment\n",
    "  * unused capacity (16 outbound lanes) because resource competition (the roundabout) prevents its use\n",
    "  * this system exhibits a _throughput collapse_ in which more usage reduces flow\n",
    "  \n",
    "<img src=\"./images/traffic.png\" width=\"512\" title=\"http://crowdcentric.net/2011/05/can-you-help-us-solve-the-worlds-traffic-congestion/\" />\n",
    "\n",
    "\n",
    "#### Skew: \n",
    "\n",
    "* Completion of parts for assembly\n",
    "\n",
    "<img src=\"./images/plane.png\" width=\"512\" title=\"Airplane\" />\n",
    "http://www.ainonline.com/?q=aviation-news/dubai-air-show/2011-11-12/"
   ]
  },
  {
   "cell_type": "code",
   "execution_count": null,
   "metadata": {},
   "outputs": [],
   "source": []
  }
 ],
 "metadata": {
  "kernelspec": {
   "display_name": "R",
   "language": "R",
   "name": "ir"
  },
  "language_info": {
   "codemirror_mode": "r",
   "file_extension": ".r",
   "mimetype": "text/x-r-source",
   "name": "R",
   "pygments_lexer": "r",
   "version": "3.5.1"
  }
 },
 "nbformat": 4,
 "nbformat_minor": 2
}

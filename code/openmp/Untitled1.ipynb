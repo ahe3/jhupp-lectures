{
 "cells": [
  {
   "cell_type": "code",
   "execution_count": 1,
   "metadata": {},
   "outputs": [],
   "source": [
    "int len = 1024;\n",
    "\n",
    "int a [1024];\n",
    "int b [1024];\n",
    "int c [1024];\n",
    "\n",
    "for (int i=0; i++; i<1024)\n",
    "{\n",
    "    a[i] = rand();\n",
    "    b[i] = rand();    \n",
    "}"
   ]
  },
  {
   "cell_type": "code",
   "execution_count": 2,
   "metadata": {},
   "outputs": [
    {
     "name": "stdout",
     "output_type": "stream",
     "text": [
      "1.53 us +- 15.1 ns per loop (mean +- std. dev. of 7 runs 1000000 loops each)\n"
     ]
    }
   ],
   "source": [
    "%%timeit \n",
    "#pragma cling optimize(0)\n",
    "for (int i=0; i<len; i++)\n",
    " c[i] = a[i] + b[i]; "
   ]
  },
  {
   "cell_type": "code",
   "execution_count": 5,
   "metadata": {},
   "outputs": [
    {
     "name": "stdout",
     "output_type": "stream",
     "text": [
      "1.54 us +- 19.2 ns per loop (mean +- std. dev. of 7 runs 1000000 loops each)\n"
     ]
    }
   ],
   "source": [
    "%%timeit \n",
    "#pragma cling optimize(3)\n",
    "for (int i=0; i<len; i++)\n",
    " c[i] = a[i] + b[i]; "
   ]
  },
  {
   "cell_type": "code",
   "execution_count": null,
   "metadata": {},
   "outputs": [],
   "source": []
  }
 ],
 "metadata": {
  "kernelspec": {
   "display_name": "C++11",
   "language": "C++11",
   "name": "xeus-cling-cpp11"
  },
  "language_info": {
   "codemirror_mode": "text/x-c++src",
   "file_extension": ".cpp",
   "mimetype": "text/x-c++src",
   "name": "c++",
   "version": "-std=c++11"
  }
 },
 "nbformat": 4,
 "nbformat_minor": 2
}

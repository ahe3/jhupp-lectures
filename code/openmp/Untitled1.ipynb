{
 "cells": [
  {
   "cell_type": "code",
   "execution_count": 1,
   "metadata": {},
   "outputs": [],
   "source": [
    "int len = 1024;\n",
    "\n",
    "int a [1024];\n",
    "int b [1024];\n",
    "int c [1024];\n",
    "\n",
    "for (int i=0; i++; i<1024)\n",
    "{\n",
    "    a[i] = rand();\n",
    "    b[i] = rand();    \n",
    "}"
   ]
  },
  {
   "cell_type": "code",
   "execution_count": null,
   "metadata": {},
   "outputs": [],
   "source": [
    "%%timeit \n",
    "#pragma cling optimize(0)\n",
    "for (int i=0; i<len; i++)\n",
    " c[i] = a[i] + b[i]; "
   ]
  },
  {
   "cell_type": "code",
   "execution_count": null,
   "metadata": {},
   "outputs": [],
   "source": [
    "%%timeit \n",
    "#pragma cling optimize(2)\n",
    "for (i=0; i<len; i++)\n",
    " c[i] = a[i] + b[i]; "
   ]
  }
 ],
 "metadata": {
  "kernelspec": {
   "display_name": "C++11",
   "language": "C++11",
   "name": "xeus-cling-cpp11"
  },
  "language_info": {
   "codemirror_mode": "text/x-c++src",
   "file_extension": ".cpp",
   "mimetype": "text/x-c++src",
   "name": "c++",
   "version": "-std=c++11"
  }
 },
 "nbformat": 4,
 "nbformat_minor": 2
}

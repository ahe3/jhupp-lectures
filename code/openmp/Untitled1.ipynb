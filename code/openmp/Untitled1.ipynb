{
 "cells": [
  {
   "cell_type": "code",
   "execution_count": 1,
   "metadata": {},
   "outputs": [],
   "source": [
    "int len = 1024;\n",
    "\n",
    "int a [1024];\n",
    "int b [1024];\n",
    "int c [1024];\n",
    "\n",
    "for (int i=0; i++; i<1024)\n",
    "{\n",
    "    a[i] = rand();\n",
    "    b[i] = rand();    \n",
    "}"
   ]
  },
  {
   "cell_type": "code",
   "execution_count": 6,
   "metadata": {},
   "outputs": [
    {
     "name": "stderr",
     "output_type": "stream",
     "text": [
      "input_line_67:4:4: error: use of undeclared identifier 'gSystem'\n",
      "   gSystem->SetAclicMode(TSystem::kOpt);\n",
      "   ^\n",
      "input_line_67:4:26: error: use of undeclared identifier 'TSystem'\n",
      "   gSystem->SetAclicMode(TSystem::kOpt);\n",
      "                         ^\n",
      "input_line_68:4:4: error: use of undeclared identifier 'gSystem'\n",
      "   gSystem->SetAclicMode(TSystem::kOpt);\n",
      "   ^\n",
      "input_line_68:4:26: error: use of undeclared identifier 'TSystem'\n",
      "   gSystem->SetAclicMode(TSystem::kOpt);\n",
      "                         ^\n",
      "input_line_69:4:4: error: use of undeclared identifier 'gSystem'\n",
      "   gSystem->SetAclicMode(TSystem::kOpt);\n",
      "   ^\n",
      "input_line_69:4:26: error: use of undeclared identifier 'TSystem'\n",
      "   gSystem->SetAclicMode(TSystem::kOpt);\n",
      "                         ^\n",
      "input_line_70:4:4: error: use of undeclared identifier 'gSystem'\n",
      "   gSystem->SetAclicMode(TSystem::kOpt);\n",
      "   ^\n",
      "input_line_70:4:26: error: use of undeclared identifier 'TSystem'\n",
      "   gSystem->SetAclicMode(TSystem::kOpt);\n",
      "                         ^\n",
      "input_line_71:4:4: error: use of undeclared identifier 'gSystem'\n",
      "   gSystem->SetAclicMode(TSystem::kOpt);\n",
      "   ^\n",
      "input_line_71:4:26: error: use of undeclared identifier 'TSystem'\n",
      "   gSystem->SetAclicMode(TSystem::kOpt);\n",
      "                         ^\n",
      "input_line_72:4:4: error: use of undeclared identifier 'gSystem'\n",
      "   gSystem->SetAclicMode(TSystem::kOpt);\n",
      "   ^\n",
      "input_line_72:4:26: error: use of undeclared identifier 'TSystem'\n",
      "   gSystem->SetAclicMode(TSystem::kOpt);\n",
      "                         ^\n",
      "input_line_73:4:4: error: use of undeclared identifier 'gSystem'\n",
      "   gSystem->SetAclicMode(TSystem::kOpt);\n",
      "   ^\n",
      "input_line_73:4:26: error: use of undeclared identifier 'TSystem'\n",
      "   gSystem->SetAclicMode(TSystem::kOpt);\n",
      "                         ^\n",
      "input_line_74:4:4: error: use of undeclared identifier 'gSystem'\n",
      "   gSystem->SetAclicMode(TSystem::kOpt);\n",
      "   ^\n",
      "input_line_74:4:26: error: use of undeclared identifier 'TSystem'\n",
      "   gSystem->SetAclicMode(TSystem::kOpt);\n",
      "                         ^\n",
      "input_line_75:4:4: error: use of undeclared identifier 'gSystem'\n",
      "   gSystem->SetAclicMode(TSystem::kOpt);\n",
      "   ^\n",
      "input_line_75:4:26: error: use of undeclared identifier 'TSystem'\n",
      "   gSystem->SetAclicMode(TSystem::kOpt);\n",
      "                         ^\n",
      "input_line_76:4:4: error: use of undeclared identifier 'gSystem'\n",
      "   gSystem->SetAclicMode(TSystem::kOpt);\n",
      "   ^\n",
      "input_line_76:4:26: error: use of undeclared identifier 'TSystem'\n",
      "   gSystem->SetAclicMode(TSystem::kOpt);\n",
      "                         ^\n",
      "input_line_77:4:4: error: use of undeclared identifier 'gSystem'\n",
      "   gSystem->SetAclicMode(TSystem::kOpt);\n",
      "   ^\n",
      "input_line_77:4:26: error: use of undeclared identifier 'TSystem'\n",
      "   gSystem->SetAclicMode(TSystem::kOpt);\n",
      "                         ^\n",
      "input_line_78:4:4: error: use of undeclared identifier 'gSystem'\n",
      "   gSystem->SetAclicMode(TSystem::kOpt);\n",
      "   ^\n",
      "input_line_78:4:26: error: use of undeclared identifier 'TSystem'\n",
      "   gSystem->SetAclicMode(TSystem::kOpt);\n",
      "                         ^\n",
      "input_line_79:4:4: error: use of undeclared identifier 'gSystem'\n",
      "   gSystem->SetAclicMode(TSystem::kOpt);\n",
      "   ^\n",
      "input_line_79:4:26: error: use of undeclared identifier 'TSystem'\n",
      "   gSystem->SetAclicMode(TSystem::kOpt);\n",
      "                         ^\n",
      "input_line_80:4:4: error: use of undeclared identifier 'gSystem'\n",
      "   gSystem->SetAclicMode(TSystem::kOpt);\n",
      "   ^\n",
      "input_line_80:4:26: error: use of undeclared identifier 'TSystem'\n",
      "   gSystem->SetAclicMode(TSystem::kOpt);\n",
      "                         ^\n",
      "input_line_81:4:4: error: use of undeclared identifier 'gSystem'\n",
      "   gSystem->SetAclicMode(TSystem::kOpt);\n",
      "   ^\n",
      "input_line_81:4:26: error: use of undeclared identifier 'TSystem'\n",
      "   gSystem->SetAclicMode(TSystem::kOpt);\n",
      "                         ^\n",
      "input_line_82:4:4: error: use of undeclared identifier 'gSystem'\n",
      "   gSystem->SetAclicMode(TSystem::kOpt);\n",
      "   ^\n",
      "input_line_82:4:26: error: use of undeclared identifier 'TSystem'\n",
      "   gSystem->SetAclicMode(TSystem::kOpt);\n",
      "                         ^\n",
      "input_line_83:4:4: error: use of undeclared identifier 'gSystem'\n",
      "   gSystem->SetAclicMode(TSystem::kOpt);\n",
      "   ^\n",
      "input_line_83:4:26: error: use of undeclared identifier 'TSystem'\n",
      "   gSystem->SetAclicMode(TSystem::kOpt);\n",
      "                         ^\n"
     ]
    },
    {
     "name": "stdout",
     "output_type": "stream",
     "text": [
      "0 ns +- 0 ns per loop (mean +- std. dev. of 7 runs 1000000000 loops each)\n"
     ]
    }
   ],
   "source": [
    "%%timeit \n",
    "gSystem->SetAclicMode(TSystem::kOpt);\n",
    "for (int i=0; i<len; i++)\n",
    " c[i] = a[i] + b[i]; "
   ]
  },
  {
   "cell_type": "code",
   "execution_count": 7,
   "metadata": {},
   "outputs": [
    {
     "name": "stdout",
     "output_type": "stream",
     "text": [
      "-I\n",
      "/opt/conda/bin/../lib/gcc/../../gcc/include/c++\n",
      "-I\n",
      "/opt/conda/bin/../lib/gcc/../../gcc/include/c++/x86_64-pc-linux-gnu\n",
      "-I\n",
      "/opt/conda/bin/../lib/gcc/../../gcc/include/c++/backward\n",
      "-isystem\n",
      "/usr/local/include\n",
      "-isystem\n",
      "/opt/conda/lib/clang/5.0.0/include\n",
      "-extern-c-isystem\n",
      "/usr/include/x86_64-linux-gnu\n",
      "-extern-c-isystem\n",
      "/include\n",
      "-extern-c-isystem\n",
      "/usr/include\n",
      "-I\n",
      "/opt/conda/include\n",
      "-resource-dir\n",
      "/opt/conda/lib/clang/5.0.0\n",
      "-nostdinc++\n"
     ]
    }
   ],
   "source": [
    ".include "
   ]
  },
  {
   "cell_type": "code",
   "execution_count": 5,
   "metadata": {},
   "outputs": [
    {
     "name": "stdout",
     "output_type": "stream",
     "text": [
      "1.54 us +- 19.2 ns per loop (mean +- std. dev. of 7 runs 1000000 loops each)\n"
     ]
    }
   ],
   "source": [
    "%%timeit \n",
    "#pragma cling optimize(3)\n",
    "for (int i=0; i<len; i++)\n",
    " c[i] = a[i] + b[i]; "
   ]
  },
  {
   "cell_type": "code",
   "execution_count": 9,
   "metadata": {},
   "outputs": [
    {
     "name": "stderr",
     "output_type": "stream",
     "text": [
      "input_line_85:1:10: fatal error: 'cling.h' file not found\n",
      "#include <cling.h>\n",
      "         ^~~~~~~~~\n"
     ]
    },
    {
     "ename": "Interpreter Error",
     "evalue": "",
     "output_type": "error",
     "traceback": [
      "Interpreter Error: "
     ]
    }
   ],
   "source": []
  },
  {
   "cell_type": "code",
   "execution_count": null,
   "metadata": {},
   "outputs": [],
   "source": []
  }
 ],
 "metadata": {
  "kernelspec": {
   "display_name": "C++11",
   "language": "C++11",
   "name": "xeus-cling-cpp11"
  },
  "language_info": {
   "codemirror_mode": "text/x-c++src",
   "file_extension": ".cpp",
   "mimetype": "text/x-c++src",
   "name": "c++",
   "version": "-std=c++11"
  }
 },
 "nbformat": 4,
 "nbformat_minor": 2
}

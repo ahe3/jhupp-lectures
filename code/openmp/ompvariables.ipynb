{
 "cells": [
  {
   "cell_type": "code",
   "execution_count": 5,
   "metadata": {},
   "outputs": [],
   "source": [
    ".L omp"
   ]
  },
  {
   "cell_type": "markdown",
   "metadata": {},
   "source": [
    "### Loop Variables\n",
    "\n",
    "__Don't update loop variable inside block__\n",
    "\n",
    "This will produce weird results where the number of iterations will change depending upon scheduling.\n",
    "Change the scheduling discipline below to `static,2` or `static,4`.  You different iterations.  Why?"
   ]
  },
  {
   "cell_type": "code",
   "execution_count": 6,
   "metadata": {},
   "outputs": [
    {
     "name": "stdout",
     "output_type": "stream",
     "text": [
      "OMP Thread# 0 i++ 0 x++ 34 i++ 1612 x++ 0\n",
      "13 i++ 13 x++ 4 i++ 17 x++ 3\n",
      "OMP Thread# 4 i++ 18 x++ 4\n",
      "OMP Thread# 4 i++ 19 x++ 5\n",
      "2\n",
      "OMP Thread# 3 i++ 14 x++ 6\n",
      "OMP Thread# 3 i++ 15 x++ 7\n",
      "OMP Thread# 0 i++ 0 x++ 8\n",
      "OMP Thread# 0 i++ 1 x++ 9\n",
      "OMP Thread# 0 i++ 2 x++ 10\n",
      "OMP Thread# 0 i++ 3 x++ 11\n",
      "OMP Thread# 2 i++ 8 x++ 12\n",
      "OMP Thread# 2 i++ 9 x++ 13\n",
      "OMP Thread# 2 i++ 10 x++ 14\n",
      "OMP Thread# 2 i++ 11 x++ 15\n",
      "OMP Thread# 1 i++ 4 x++ 16\n",
      "OMP Thread# 1 i++ 5 x++ 17\n",
      "OMP Thread# 1 i++ 6 x++ 18\n",
      "OMP Thread# 1 i++ 7 x++ 19\n"
     ]
    }
   ],
   "source": [
    "#include <iostream>\n",
    "#include <omp.h>\n",
    "{\n",
    "  int i;\n",
    "  int x = 0;\n",
    "\n",
    "  #pragma omp parallel for schedule(static,4)\n",
    "  for ( i=0; i<20; i++ )\n",
    "  {\n",
    "    std::cout << \"OMP Thread# \" << omp_get_thread_num() << \" i++ \" << i++ << \" x++ \" << x++ << \"\\n\";\n",
    "  }\n",
    "}"
   ]
  },
  {
   "cell_type": "markdown",
   "metadata": {},
   "source": [
    "### Private"
   ]
  },
  {
   "cell_type": "code",
   "execution_count": 3,
   "metadata": {},
   "outputs": [
    {
     "name": "stdout",
     "output_type": "stream",
     "text": [
      "OMP Thread# 0 shared++ 0 private++ 0\n",
      "OMP Thread# 0 shared++ 1 private++ 1\n",
      "OMP Thread# 3 shared++ 2 private++ 0\n",
      "OMP Thread# 3 shared++ 3 private++ 1\n",
      "OMP Thread# 1 shared++ 4 private++ 0\n",
      "OMP Thread# 1 shared++ 5 private++ 1\n",
      "OMP Thread# 4 shared++ 6 private++ 331331329\n",
      "OMP Thread# 5 shared++ 7 private++ 0\n",
      "OMP Thread# 2 shared++ 8 private++ 542762497\n",
      "OMP Thread# 2 shared++ 9 private++ 542762498\n"
     ]
    }
   ],
   "source": [
    "#include <iostream>\n",
    "#include <omp.h>\n",
    "{\n",
    "  int i;\n",
    "  int sh = 0;\n",
    "  int pr = 0;\n",
    "\n",
    "  #pragma omp parallel for private(pr) shared(sh)\n",
    "  for ( i=0; i<10; i++ )\n",
    "  {\n",
    "    std::cout << \"OMP Thread# \" << omp_get_thread_num() << \" shared++ \" << sh++ << \" private++ \" << pr++ << \"\\n\";\n",
    "  }\n",
    "}"
   ]
  },
  {
   "cell_type": "markdown",
   "metadata": {},
   "source": [
    "### First Private"
   ]
  },
  {
   "cell_type": "code",
   "execution_count": 4,
   "metadata": {},
   "outputs": [
    {
     "name": "stdout",
     "output_type": "stream",
     "text": [
      "OMP Thread# 3 shared++ 0 firstprivate++ 0\n",
      "OMP Thread# 3 shared++ 1 firstprivate++ 1\n",
      "OMP Thread# 0 shared++ 2 firstprivate++ 0\n",
      "OMP Thread# 0 shared++ 3 firstprivate++ 1\n",
      "OMP Thread# 1 shared++ 4 firstprivate++ 0\n",
      "OMP Thread# 1 shared++ 5 firstprivate++ 1\n",
      "OMP Thread# 2 shared++ 6 firstprivate++ 0\n",
      "OMP Thread# 2 shared++ 7 firstprivate++ 1\n",
      "OMP Thread# 4 shared++ 8 firstprivate++ 0\n",
      "OMP Thread# 5 shared++ 9 firstprivate++ 0\n"
     ]
    }
   ],
   "source": [
    "#include <iostream>\n",
    "#include <omp.h>\n",
    "{\n",
    "  int i;\n",
    "  int sh = 0;\n",
    "  int pr = 0;\n",
    "\n",
    "  #pragma omp parallel for firstprivate(pr) shared(sh)\n",
    "  for ( i=0; i<10; i++ )\n",
    "  {\n",
    "    std::cout << \"OMP Thread# \" << omp_get_thread_num() << \" shared++ \" << sh++ << \" firstprivate++ \" << pr++ << \"\\n\";\n",
    "  }\n",
    "}"
   ]
  }
 ],
 "metadata": {
  "kernelspec": {
   "display_name": "C++11",
   "language": "C++11",
   "name": "xeus-cling-cpp11"
  },
  "language_info": {
   "codemirror_mode": "text/x-c++src",
   "file_extension": ".cpp",
   "mimetype": "text/x-c++src",
   "name": "c++",
   "version": "-std=c++11"
  }
 },
 "nbformat": 4,
 "nbformat_minor": 2
}

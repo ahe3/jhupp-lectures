{
 "cells": [
  {
   "cell_type": "markdown",
   "metadata": {},
   "source": [
    "### Loop Parallelism"
   ]
  },
  {
   "cell_type": "code",
   "execution_count": 1,
   "metadata": {},
   "outputs": [],
   "source": [
    ".L omp"
   ]
  },
  {
   "cell_type": "code",
   "execution_count": null,
   "metadata": {},
   "outputs": [],
   "source": [
    "#include <iostream>\n",
    "#include <omp.h>\n",
    "\n",
    "{\n",
    "  #pragma omp parallel for \n",
    "  for ( int i=0; i<100; i++ )\n",
    "  {\n",
    "    std::cout << \"OMP Thread# \" << omp_get_thread_num() << \" loop variable \" << i << \"\\n\";\n",
    "  }\n",
    "}"
   ]
  },
  {
   "cell_type": "markdown",
   "metadata": {},
   "source": [
    "### Static Scheduling"
   ]
  },
  {
   "cell_type": "code",
   "execution_count": null,
   "metadata": {},
   "outputs": [
    {
     "name": "stdout",
     "output_type": "stream",
     "text": [
      "OMP Thread# iable 99\n",
      "OMP0 loop variable 0 loop variable 40OMP Thread# le 1\n",
      "OMP Thread# 0 loop variable 25\n",
      "OMP Thread# 0 loop variable 3\n",
      " loop variable OMP Thread# 0OMP Thread# le\n",
      "O0 loop variable 725\n",
      "OMP Thread# 0 loop variable  loop variable 2628\n",
      "OMP Thread# 0 loop variable  loop variable 29\n",
      "OMP Thread# 0 loop variable 4830\n",
      "OMP Thread# 1 loop variable 31\n",
      "9\n",
      "OMP Thread# OMP Thread# 0 loop variable  l\n",
      "OM\n",
      "OMP Thread# 0 loop variable 53\n",
      "OMP Thread# 1MP Thread# 0 loop variable  loop variable rea540\n",
      " loop variable 73\n",
      "1MP Thread# 0 loop variable  loop variable 74\n",
      "55\n",
      "OMP Thread#  loop variable 75\n",
      "760 loop variable OMP Thread# 961 loop variab0 loop variable \n",
      "OMP Thread# \n",
      "OMP Thread# 1 loop variable 98\n",
      "OMP Thread# 1 loop variable 99\n",
      "79\n",
      "OMP Thread# 2 loop variable 8\n",
      "OMP Thread# 2 loop variable 9\n",
      "OMP Thread# 2 loop variable 10\n",
      "OMP Thread# 2 loop variable 11\n",
      "OMP Thread# 2 loop variable 32\n",
      "OMP Thread# 2 loop variable 33\n",
      "OMP Thread# 2 loop variable 34\n",
      "OMP Thread# 2 loop variable 35\n",
      "OMP Thread# 2 loop variable 56\n",
      "OMP Thread"
     ]
    }
   ],
   "source": [
    "#include <iostream>\n",
    "#include <omp.h>\n",
    "\n",
    "{\n",
    "  #pragma omp parallel for schedule(static,4)\n",
    "  for ( int i=0; i<100; i++ )\n",
    "  {\n",
    "    std::cout << \"OMP Thread# \" << omp_get_thread_num() << \" loop variable \" << i << \"\\n\";\n",
    "  }\n",
    "}"
   ]
  },
  {
   "cell_type": "markdown",
   "metadata": {},
   "source": [
    "### Dynamic Scheduling"
   ]
  },
  {
   "cell_type": "code",
   "execution_count": 2,
   "metadata": {},
   "outputs": [],
   "source": [
    ".L omp"
   ]
  },
  {
   "cell_type": "code",
   "execution_count": null,
   "metadata": {},
   "outputs": [],
   "source": [
    "\n",
    "#include <iostream>\n",
    "#include <omp.h>\n",
    "\n",
    "{\n",
    "  #pragma omp parallel for schedule(dynamic,4)\n",
    "  for ( int i=0; i<100; i++ )\n",
    "  {\n",
    "    std::cout << \"OMP Thread# \" << omp_get_thread_num() << \" loop variable \" << i << \"\\n\";\n",
    "  }\n",
    "}"
   ]
  },
  {
   "cell_type": "markdown",
   "metadata": {},
   "source": [
    "### Guided Scheduling"
   ]
  },
  {
   "cell_type": "code",
   "execution_count": null,
   "metadata": {},
   "outputs": [],
   "source": [
    "#include <iostream>\n",
    "#include <omp.h>\n",
    "\n",
    "{\n",
    "  #pragma omp parallel for schedule(guided)\n",
    "  for ( int i=0; i<100; i++ )\n",
    "  {\n",
    "    std::cout << \"OMP Thread# \" << omp_get_thread_num() << \" loop variable \" << i << \"\\n\";\n",
    "  }\n",
    "}"
   ]
  },
  {
   "cell_type": "code",
   "execution_count": null,
   "metadata": {},
   "outputs": [],
   "source": []
  }
 ],
 "metadata": {
  "kernelspec": {
   "display_name": "C++14",
   "language": "C++14",
   "name": "xeus-cling-cpp14"
  },
  "language_info": {
   "codemirror_mode": "text/x-c++src",
   "file_extension": ".cpp",
   "mimetype": "text/x-c++src",
   "name": "c++",
   "version": "-std=c++14"
  }
 },
 "nbformat": 4,
 "nbformat_minor": 2
}

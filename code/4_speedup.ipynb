{
 "cells": [
  {
   "cell_type": "markdown",
   "metadata": {},
   "source": [
    "## Speedup and Strong Scaling\n",
    "\n",
    "_Strong scaling_ is the concept of solving a problem of a constant size faster with more resources.\n",
    "_Speedup_ is the measure of how the solution increases in speed as a function of adding parallel resources.\n",
    "\n",
    "### DES cracking as an example.\n",
    "\n",
    "DES is a (now outdated) standard for encryption that uses a 56-bit key.  The state space of the DES key ($2^56$ bits) is small enough that programmers implemented a brute force search (of the entire key space) to break the cipher.  Strong scaling (and Moore's law) has seen this problem become simpler over time.  The solution has evolved:\n",
    "* \\$20M (est) 1976\n",
    "* 1998, 4.5 days, \\$250,000 \n",
    "* 1999 22 hours, \\$250,000\n",
    "* 2006,  9 days, \\$10,000\n",
    "* 2008, 1 days, \\$10,000\n",
    "\n",
    "### Motivations for Parallel Computing\n",
    "\n",
    "Two traditional motivations of parallel computing are to either\n",
    "  * solve problems faster (strong scaling, this lecture) using more resources\n",
    "  * solve larger problems (weak scaling, next lecture) using more resources\n",
    "Both are important and they have different challenges at times.\n",
    "\n",
    "There are also other reasons for parallelism, mostly because hardware demands it to realize full utilization\n",
    "  * maximize efficiency\n",
    "  * minimize costs, power\n",
    "\n",
    "### Speedup\n",
    "\n",
    "The fundamental concept in parallelism\n",
    "  * $T(1)$ = time to execute task on a single resource\n",
    "  * $T(n)$ = time to execute task on n resources\n",
    "  * Speedup = $T(1)/T(n)$\n",
    "This conforms exactly with Amdahl's Law.\n",
    "\n"
   ]
  },
  {
   "cell_type": "code",
   "execution_count": 8,
   "metadata": {},
   "outputs": [
    {
     "ename": "ERROR",
     "evalue": "Error in parse(text = x, srcfile = src): <text>:19:0: unexpected end of input\n17: #print(aplot)\n18: \n   ^\n",
     "output_type": "error",
     "traceback": [
      "Error in parse(text = x, srcfile = src): <text>:19:0: unexpected end of input\n17: #print(aplot)\n18: \n   ^\nTraceback:\n"
     ]
    }
   ],
   "source": [
    "library(ggplot2)\n",
    "\n",
    "cores = seq(1:1:64)\n",
    "\n",
    "p = .98\n",
    "        \n",
    "amdahl <- data.frame(cores, 1/((1-p)+p/cores))\n",
    "colnames(amdahl) <- c(\"cores\",\"speedup\")\n",
    "\n",
    "ggplot(amdahl, aes(x=cores, y=speedup)) + geom_point() +\n",
    "  geom_line(data=amdahl, aes(x=cores,y=cores) \n",
    "\n",
    "\n",
    "#aplot <- ggplot(amdahl, aes(x=cores, y=speedup, color=\"Sublinear Speedup\")) + geom_point() +\n",
    " #           geom_line(data=amdahl, aes(x=cores,y=cores, color=\"Ideal\")) +\n",
    "  ##\n",
    "#print(aplot)\n"
   ]
  },
  {
   "cell_type": "code",
   "execution_count": null,
   "metadata": {},
   "outputs": [],
   "source": []
  }
 ],
 "metadata": {
  "kernelspec": {
   "display_name": "R",
   "language": "R",
   "name": "ir"
  },
  "language_info": {
   "codemirror_mode": "r",
   "file_extension": ".r",
   "mimetype": "text/x-r-source",
   "name": "R",
   "pygments_lexer": "r",
   "version": "3.5.1"
  }
 },
 "nbformat": 4,
 "nbformat_minor": 2
}

{
 "cells": [
  {
   "cell_type": "markdown",
   "metadata": {},
   "source": [
    "## Speedup and Strong Scaling\n",
    "\n",
    "_Strong scaling_ is the concept of solving a problem of a constant size faster with more resources.\n",
    "_Speedup_ is the measure of how the solution increases in speed as a function of adding parallel resources.\n",
    "\n",
    "### DES cracking as an example.\n",
    "\n",
    "DES is a (now outdated) standard for encryption that uses a 56-bit key.  The state space of the DES key ($2^56$ bits) is small enough that programmers implemented a brute force search (of the entire key space) to break the cipher.  Strong scaling (and Moore's law) has seen this problem become simpler over time.  The solution has evolved:\n",
    "* \\$20M (est) 1976\n",
    "* 1998, 4.5 days, \\$250,000 \n",
    "* 1999 22 hours, \\$250,000\n",
    "* 2006,  9 days, \\$10,000\n",
    "* 2008, 1 days, \\$10,000\n",
    "\n",
    "### Motivations for Parallel Computing\n",
    "\n",
    "Two traditional motivations of parallel computing are to either\n",
    "  * solve problems faster (strong scaling, this lecture) using more resources\n",
    "  * solve larger problems (weak scaling, next lecture) using more resources\n",
    "Both are important and they have different challenges at times.\n",
    "\n",
    "There are also other reasons for parallelism, mostly because hardware demands parallelism.\n",
    "  * maximize efficiency, power, \n",
    "\n"
   ]
  },
  {
   "cell_type": "code",
   "execution_count": null,
   "metadata": {},
   "outputs": [],
   "source": [
    "()"
   ]
  }
 ],
 "metadata": {
  "kernelspec": {
   "display_name": "Python 3",
   "language": "python",
   "name": "python3"
  },
  "language_info": {
   "codemirror_mode": {
    "name": "ipython",
    "version": 3
   },
   "file_extension": ".py",
   "mimetype": "text/x-python",
   "name": "python",
   "nbconvert_exporter": "python",
   "pygments_lexer": "ipython3",
   "version": "3.6.6"
  }
 },
 "nbformat": 4,
 "nbformat_minor": 2
}

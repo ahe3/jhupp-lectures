{
 "cells": [
  {
   "cell_type": "markdown",
   "metadata": {},
   "source": [
    "## OS Abstractions Processes and Threads\n",
    "\n",
    "From our textbook, we have the following concepts:\n",
    "* _Task_: sequence of instructions that operate as a group\n",
    "* Unit of execution (_UE_): process or a thread, the execution context for a task\n",
    "* Processing Element (_PE_): hardware element that runs the UE\n",
    "\n",
    "For OpenMP these were\n",
    "* _Task_ == Block invocation or loop iteration\n",
    "* _UE_ == Thread\n",
    "* _PE_ == Processor core\n",
    "\n",
    "But, we haven't formally defined _thread_.  So, let's look at Operating System abstractions.\n",
    "\n",
    "### Process\n",
    "\n",
    "“A process is the operating system’s abstraction for a running program” (Bryant and O’Halloran, _Computer Systems_.)\n",
    "Processes “provide the illusion that the program is the only one running on the system.”\n",
    "* Each process appears:\n",
    "  * To have exclusive use of the hardware\n",
    "  * To execute instructions one after another without interruption\n",
    "* By definition, processes do not share memory\n",
    "\n",
    "The process abstraction allows for multiple serial programs to run concurrently and in parallel.  Processes have their roots in [Time Sharing](https://en.wikipedia.org/wiki/Time-sharing) operating systems of the 1960s.\n",
    "\n",
    "Each process has a __context__: the information needed for the operating system to implement its abstraction.\n",
    "* Context is the per process state maintained by the OS\n",
    "  * Needed to suspend and resume processes\n",
    "  * Includes: program counter, register file, contents of memory\n",
    "\n",
    "In a _context switch_ an operating system transparently switches among the running processes.\n",
    "\n",
    "### Virtual Memory\n",
    "\n",
    "* As part of the abstraction, processes appear to have exclusive use of memory:\n",
    "  * It’s actually a virtual address space, because the addresses don’t correspond to HW addresses\n",
    "* Memory contains the state of a single program\n",
    "  * Code, data, heap, stack\n",
    "  * Memory mapped (shared) libraries\n",
    "\n"
   ]
  },
  {
   "cell_type": "code",
   "execution_count": null,
   "metadata": {},
   "outputs": [],
   "source": []
  }
 ],
 "metadata": {
  "kernelspec": {
   "display_name": "Python 3",
   "language": "python",
   "name": "python3"
  },
  "language_info": {
   "codemirror_mode": {
    "name": "ipython",
    "version": 3
   },
   "file_extension": ".py",
   "mimetype": "text/x-python",
   "name": "python",
   "nbconvert_exporter": "python",
   "pygments_lexer": "ipython3",
   "version": "3.6.8"
  }
 },
 "nbformat": 4,
 "nbformat_minor": 2
}

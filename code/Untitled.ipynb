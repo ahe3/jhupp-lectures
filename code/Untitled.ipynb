{
 "cells": [
  {
   "cell_type": "markdown",
   "metadata": {},
   "source": [
    "### Serial to Parallel: OpenMP\n",
    "\n",
    "The simplest and most common parallel pattern is to take a serial program and convert it into a parallel program.\n",
    "\n",
    "* My code’s not running fast enough:\n",
    "  * Video: data delays produce jitter, stalls\n",
    "  * Web: page render time causes user loss, discomfort\n",
    "  * Batch processing, indexing, analysis not completing in time \n",
    "  * High-throughput finance: other models running faster and beating mine to a decision -> lose arbitrage opportunity\n",
    "* This leads to a natural software engineering process\n",
    "  * Profile code: find out what’s slow\n",
    "  * Parallelize slow part(s) only\n",
    "  * Migrate from serial implementation to parallel implementation\n",
    "* It's  not the best process\n",
    "  * Serial to parallel doesn’t produce the best designs\n",
    "  * Best parallel implementation may require a totally different design with no incremental refatoring from serial implementat\n",
    "* Just the easiest\n",
    "  * Compared to a clean-slate redesign\n",
    "\n",
    "\n"
   ]
  }
 ],
 "metadata": {
  "kernelspec": {
   "display_name": "C++11",
   "language": "C++11",
   "name": "xeus-cling-cpp11"
  },
  "language_info": {
   "codemirror_mode": "text/x-c++src",
   "file_extension": ".cpp",
   "mimetype": "text/x-c++src",
   "name": "c++",
   "version": "-std=c++11"
  }
 },
 "nbformat": 4,
 "nbformat_minor": 2
}

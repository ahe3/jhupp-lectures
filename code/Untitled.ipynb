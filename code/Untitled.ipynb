{
 "cells": [
  {
   "cell_type": "markdown",
   "metadata": {},
   "source": [
    "## MPI Messaging and Deadlock\n",
    "\n",
    "### Point-to-Point Messaging\n",
    "\n",
    "* This is the fundamental operation in MPI\n",
    "* Send a message from one process to another\n",
    "  * Blocking I/O\n",
    "  * Blocking provides built in synchronization\n",
    "  * Blocking can lead to deadlock\n",
    "* Send and receive, let's do an example in `nodeadlock.c`\n",
    "  * this program passes a \"token\" around a ring of processes\n",
    "  \n",
    "* What's in a message?\n",
    "  * first three arguments specify content\n",
    "  * then location (receive from or send to)\n",
    "  * message metadata\n",
    "  * and a \"communicator\" which is a virtual network\n",
    "```c\n",
    "int MPI_Send ( \n",
    "  \tvoid* sendbuf, \n",
    "\tint count, \n",
    "\tMPI_Datatype datatype,\n",
    "\tint dest,\n",
    "\tint tag,\n",
    "\tMPI_Comm comm )\n",
    "    \n",
    "int MPI_Recv ( \n",
    "  \tvoid* recvbuf, \n",
    "\tint count, \n",
    "\tMPI_Datatype datatype,\n",
    "\tint source,\n",
    "\t. . . )\n",
    "```\n",
    "* All MPI data are arrays\n",
    "  * Where is it? `void *`\n",
    "  \n"
   ]
  },
  {
   "cell_type": "code",
   "execution_count": null,
   "metadata": {},
   "outputs": [],
   "source": []
  }
 ],
 "metadata": {
  "kernelspec": {
   "display_name": "C++11",
   "language": "C++11",
   "name": "xeus-cling-cpp11"
  },
  "language_info": {
   "codemirror_mode": "text/x-c++src",
   "file_extension": ".cpp",
   "mimetype": "text/x-c++src",
   "name": "c++",
   "version": "-std=c++11"
  }
 },
 "nbformat": 4,
 "nbformat_minor": 2
}

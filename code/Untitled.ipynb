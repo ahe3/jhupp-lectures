{
 "cells": [
  {
   "cell_type": "markdown",
   "metadata": {},
   "source": [
    "## OS Abstrtactions Processes and Threads\n",
    "\n",
    "From our textbook, we have the following concepts:\n",
    "* _Task_: sequence of instructions that operate as a group\n",
    "* Unit of execution (_UE_): process or a thread, the execution context for a task\n",
    "* Processing Element (_PE_): hardware element that runs the UE\n",
    "For Java these are going to be:\n",
    "* _Task_ == Runnable object\n",
    "* _UE_ == Thread\n",
    "* _PE_ == Processor core\n",
    "What is the relationship between the number of UEs and number of PEs (threads and cores)?\n"
   ]
  }
 ],
 "metadata": {
  "kernelspec": {
   "display_name": "Python 3",
   "language": "python",
   "name": "python3"
  },
  "language_info": {
   "codemirror_mode": {
    "name": "ipython",
    "version": 3
   },
   "file_extension": ".py",
   "mimetype": "text/x-python",
   "name": "python",
   "nbconvert_exporter": "python",
   "pygments_lexer": "ipython3",
   "version": "3.6.8"
  }
 },
 "nbformat": 4,
 "nbformat_minor": 2
}

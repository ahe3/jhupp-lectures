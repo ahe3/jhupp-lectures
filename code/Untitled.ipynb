{
 "cells": [
  {
   "cell_type": "markdown",
   "metadata": {},
   "source": [
    "## Weak Scaling and Gustavson's Law\n",
    "\n",
    "Weak scaling measures how the solution time varies with the number of processors for a fixed problem size per processor.\n",
    "\n",
    "### Gustavson's Law\n",
    "\n",
    "A variant of Amdahl's law for varying problem sizes\n",
    "\n",
    "$$S_{latency}(s) = 1 - p + sp$$\n",
    "\n",
    "* _p is the optimized portion\n",
    "* _s_ is the number of cores\n",
    "\n",
    "Captures concept that as resources increase, we can solve bigger problems on more hardware.\n",
    "\n",
    "\n"
   ]
  },
  {
   "cell_type": "code",
   "execution_count": 4,
   "metadata": {},
   "outputs": [
    {
     "data": {
      "text/html": [],
      "text/latex": [],
      "text/markdown": [],
      "text/plain": [
       "logical(0)"
      ]
     },
     "metadata": {},
     "output_type": "display_data"
    },
    {
     "ename": "ERROR",
     "evalue": "Error in FUN(X[[i]], ...): object 'scaleup' not found\n",
     "output_type": "error",
     "traceback": [
      "Error in FUN(X[[i]], ...): object 'scaleup' not found\nTraceback:\n",
      "1. print(plt)",
      "2. print.ggplot(plt)",
      "3. ggplot_build(x)",
      "4. ggplot_build.ggplot(x)",
      "5. by_layer(function(l, d) l$compute_aesthetics(d, plot))",
      "6. f(l = layers[[i]], d = data[[i]])",
      "7. l$compute_aesthetics(d, plot)",
      "8. f(..., self = self)",
      "9. scales_add_defaults(plot$scales, data, aesthetics, plot$plot_env)",
      "10. lapply(aesthetics[new_aesthetics], rlang::eval_tidy, data = data)",
      "11. FUN(X[[i]], ...)"
     ]
    },
    {
     "data": {
      "image/png": "[encoded data removed]",
      "text/plain": [
       "plot without title"
      ]
     },
     "metadata": {},
     "output_type": "display_data"
    }
   ],
   "source": [
    "library(ggplot2)\n",
    "\n",
    "cores = seq(1:1:64)\n",
    "p = factor(c(0,.5,.9,.95,.99,.999, 1.0))\n",
    "\n",
    "df <- data.frame(crossing(cores,p))\n",
    "df$pnumeric <- as.numeric(levels(df$p))[df$p]\n",
    "\n",
    "# add scaleup\n",
    "df$scaleup < (1 - df$pnumeric + df$pnumeric*df$cores)\n",
    "\n",
    "plt <- ggplot(df, aes(x=cores, y=scaleup))+geom_point(aes(color=p)) +\n",
    "            coord_fixed()\n",
    "\n",
    "print(plt)"
   ]
  },
  {
   "cell_type": "code",
   "execution_count": null,
   "metadata": {},
   "outputs": [],
   "source": []
  }
 ],
 "metadata": {
  "kernelspec": {
   "display_name": "R",
   "language": "R",
   "name": "ir"
  },
  "language_info": {
   "codemirror_mode": "r",
   "file_extension": ".r",
   "mimetype": "text/x-r-source",
   "name": "R",
   "pygments_lexer": "r",
   "version": "3.5.1"
  }
 },
 "nbformat": 4,
 "nbformat_minor": 2
}

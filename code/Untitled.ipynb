{
 "cells": [
  {
   "cell_type": "markdown",
   "metadata": {},
   "source": [
    "## Introduction to Parallel Programming\n",
    "\n",
    "### Motivation for this Class\n",
    "\n",
    "* Parallelism is everywhere!\n",
    "    * Multicore, GPU, cloud, HPC\n",
    "    * Every program/programmer needs to address it\n",
    "* Traditional CS curriculum totally misses the point\n",
    "    * Model the world as serial algorithms\n",
    "    \n",
    "### Who should take this course?\n",
    "\n",
    "* Anyone who needs to program ever. Period! Exclamation point!! …  \n",
    "* Designed for Undergraduates in CS: \n",
    "    * quick lift of skills good for employers and internships\n",
    "* Suitable for graduate students in Science and Engineering\n",
    "    * Mimimize dependencies on other CS courses\n",
    "    * Self-contained treatment of OS, architecture, PL\n",
    "\n"
   ]
  },
  {
   "cell_type": "markdown",
   "metadata": {},
   "source": [
    "### What's a computer look like?\n",
    "\n",
    "* Some answers:\n",
    "    * Turing machine\n",
    "    \n",
    "![Turing Machhine Cartoon](https://i0.wp.com/www.worldofcomputing.net/wp-content/uploads/2013/01/turingMachine.gif?zoom=2&resize=400%2C274 \"Cartoon\")\n"
   ]
  },
  {
   "cell_type": "code",
   "execution_count": null,
   "metadata": {},
   "outputs": [],
   "source": []
  }
 ],
 "metadata": {
  "kernelspec": {
   "display_name": "R",
   "language": "R",
   "name": "ir"
  },
  "language_info": {
   "codemirror_mode": "r",
   "file_extension": ".r",
   "mimetype": "text/x-r-source",
   "name": "R",
   "pygments_lexer": "r",
   "version": "3.5.1"
  }
 },
 "nbformat": 4,
 "nbformat_minor": 2
}

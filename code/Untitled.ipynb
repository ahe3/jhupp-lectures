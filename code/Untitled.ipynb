{
 "cells": [
  {
   "cell_type": "markdown",
   "metadata": {},
   "source": [
    "Improving a portion P of a computation by factor s results in an overall speedup of\n",
    "\n",
    "<img src=\"./images/al1.png\" width=\"256\" title=\"Amdahl's Law Equation\" />\n",
    "\n",
    "Paraphrased: speedup limited to fraction improved\n",
    "Obvious but fundamental observation\n",
    "\n",
    "<img src=\"./images/al2.png\" width=\"512\" title=\"Amdahl's Law Graph\" />\n"
   ]
  },
  {
   "cell_type": "code",
   "execution_count": null,
   "metadata": {},
   "outputs": [],
   "source": []
  }
 ],
 "metadata": {
  "kernelspec": {
   "display_name": "R",
   "language": "R",
   "name": "ir"
  },
  "language_info": {
   "codemirror_mode": "r",
   "file_extension": ".r",
   "mimetype": "text/x-r-source",
   "name": "R",
   "pygments_lexer": "r",
   "version": "3.5.1"
  }
 },
 "nbformat": 4,
 "nbformat_minor": 2
}

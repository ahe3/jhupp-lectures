{
 "cells": [
  {
   "cell_type": "markdown",
   "metadata": {},
   "source": [
    "## Weak Scaling and Gustavson's Law\n",
    "\n",
    "Weak scaling measures how the solution time varies with the number of processors for a fixed problem size per processor.\n",
    "\n",
    "### Gustavson's Law\n",
    "\n",
    "A variant of Amdahl's law for varying problem sizes\n",
    "\n",
    "$$S_{latency}(s) = 1 - p + sp$$\n",
    "\n",
    "* _p is the optimized portion\n",
    "* _s_ is the number of cores\n",
    "\n",
    "Captures concept that as resources increase, we can solve bigger problems on more hardware.\n",
    "\n",
    "\n"
   ]
  },
  {
   "cell_type": "code",
   "execution_count": null,
   "metadata": {},
   "outputs": [],
   "source": [
    "library(ggplot2)\n",
    "\n",
    "cores = seq(1:1:64)\n",
    "\n",
    "p = .98\n",
    "        \n",
    "amdahl <- data.frame(cores, 1/((1-p)+p/cores))\n",
    "colnames(amdahl) <- c(\"cores\",\"speedup\")\n",
    "\n",
    "aplot <- ggplot(amdahl, aes(x=cores, y=speedup, color=\"Sublinear Speedup\")) + geom_point() +\n",
    "  geom_line(data=amdahl, aes(x=cores,y=cores, color=\"Ideal Speedup\"))\n",
    "\n",
    "print(aplot)"
   ]
  }
 ],
 "metadata": {
  "kernelspec": {
   "display_name": "R",
   "language": "R",
   "name": "ir"
  },
  "language_info": {
   "codemirror_mode": "r",
   "file_extension": ".r",
   "mimetype": "text/x-r-source",
   "name": "R",
   "pygments_lexer": "r",
   "version": "3.5.1"
  }
 },
 "nbformat": 4,
 "nbformat_minor": 2
}

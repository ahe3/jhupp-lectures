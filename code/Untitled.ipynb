{
 "cells": [
  {
   "cell_type": "markdown",
   "metadata": {},
   "source": [
    "## Introduction to Parallel Programming\n",
    "\n",
    "### Motivation for this Class\n",
    "\n",
    "* Parallelism is everywhere!\n",
    "    * Multicore, GPU, cloud, HPC\n",
    "    * Every program/programmer needs to address it\n",
    "* Traditional CS curriculum totally misses the point\n",
    "    * Model the world as serial algorithms\n",
    "    \n",
    "### Who should take this course?\n",
    "\n",
    "* Anyone who needs to program ever. Period! Exclamation point!! …  \n",
    "* Designed for Undergraduates in CS: \n",
    "    * quick lift of skills good for employers and internships\n",
    "* Suitable for graduate students in Science and Engineering\n",
    "    * Mimimize \n",
    "\n"
   ]
  },
  {
   "cell_type": "code",
   "execution_count": null,
   "metadata": {},
   "outputs": [],
   "source": []
  }
 ],
 "metadata": {
  "kernelspec": {
   "display_name": "R",
   "language": "R",
   "name": "ir"
  },
  "language_info": {
   "codemirror_mode": "r",
   "file_extension": ".r",
   "mimetype": "text/x-r-source",
   "name": "R",
   "pygments_lexer": "r",
   "version": "3.5.1"
  }
 },
 "nbformat": 4,
 "nbformat_minor": 2
}

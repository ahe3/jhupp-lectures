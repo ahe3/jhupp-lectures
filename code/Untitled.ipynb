{
 "cells": [
  {
   "cell_type": "markdown",
   "metadata": {},
   "source": [
    "### Critical Sections: The Synchronization Problem\n",
    "\n",
    "We are now going to take a deeper look inside synchronization of threads/processes and the principles needed to share data safely. There are two typical goals:\n",
    "* Contention: \n",
    "  * How to resolve the conflicts that result from multiple processes trying to access shared resources?\n",
    "* Cooperation:\n",
    "  * An action by one process may enable another action by another process\n",
    "  * In such cases, processes should coordinate their actions\n"
   ]
  }
 ],
 "metadata": {
  "kernelspec": {
   "display_name": "Python 3",
   "language": "python",
   "name": "python3"
  },
  "language_info": {
   "codemirror_mode": {
    "name": "ipython",
    "version": 3
   },
   "file_extension": ".py",
   "mimetype": "text/x-python",
   "name": "python",
   "nbconvert_exporter": "python",
   "pygments_lexer": "ipython3",
   "version": "3.6.8"
  }
 },
 "nbformat": 4,
 "nbformat_minor": 2
}

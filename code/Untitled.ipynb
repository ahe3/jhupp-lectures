{
 "cells": [
  {
   "cell_type": "code",
   "execution_count": null,
   "metadata": {},
   "outputs": [],
   "source": []
  },
  {
   "cell_type": "code",
   "execution_count": null,
   "metadata": {},
   "outputs": [],
   "source": [
    "### Flynn's Taxonomy \n",
    "\n",
    "Characterize machines by number of instruction streams and data streams\n",
    "  * Defined in 1972.  Still common practice.\n",
    "  * A little too restrictive, but a starting place\n",
    "\n",
    "### SISD: single instruction, single data\n",
    "\n",
    "Perform  a stream on instructions on a stream of data\n",
    "  * The von Neumann architecture\n",
    "  * Conforms to serial algorithmic analysis\n",
    "\n",
    "### SIMD: single instruction, multiple data\n",
    "\n",
    "* Single control stream\n",
    "  * All processors execute the same instruction at the same time\n",
    "  * against different data\n",
    "  * synchronous execution or 'in lock step'\n",
    "* Fine-grained parallelism without inter-process communication\n",
    "* Limited examples  \n",
    "  * Intel vector processors\n",
    "  * GPU stream processor\n",
    "\n",
    "The examples are limited because \n",
    "\n",
    "### MISD: multiple instruction, single data\n",
    "Irrelevant.  No such machines.\n",
    "\n",
    "### MIMD: multiple instruction, multiple data\n",
    "\n",
    "\n"
   ]
  }
 ],
 "metadata": {
  "kernelspec": {
   "display_name": "R",
   "language": "R",
   "name": "ir"
  },
  "language_info": {
   "codemirror_mode": "r",
   "file_extension": ".r",
   "mimetype": "text/x-r-source",
   "name": "R",
   "pygments_lexer": "r",
   "version": "3.5.1"
  }
 },
 "nbformat": 4,
 "nbformat_minor": 2
}

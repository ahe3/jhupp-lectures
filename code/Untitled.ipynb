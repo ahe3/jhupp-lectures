{
 "cells": [
  {
   "cell_type": "markdown",
   "metadata": {},
   "source": [
    "## MPI Messaging and Deadlock\n",
    "\n",
    "### Point-to-Point Messaging\n",
    "\n",
    "* This is the fundamental operation in MPI\n",
    "* Send a message from one process to another\n",
    "  * Blocking I/O\n",
    "  * Blocking provides built in synchronization\n",
    "  * Blocking can lead to deadlock\n",
    "* Send and receive, let's do an example in `nodeadlock.c`"
   ]
  }
 ],
 "metadata": {
  "kernelspec": {
   "display_name": "C++11",
   "language": "C++11",
   "name": "xeus-cling-cpp11"
  },
  "language_info": {
   "codemirror_mode": "text/x-c++src",
   "file_extension": ".cpp",
   "mimetype": "text/x-c++src",
   "name": "c++",
   "version": "-std=c++11"
  }
 },
 "nbformat": 4,
 "nbformat_minor": 2
}

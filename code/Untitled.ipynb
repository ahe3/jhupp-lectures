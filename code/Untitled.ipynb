{
 "cells": [
  {
   "cell_type": "markdown",
   "metadata": {},
   "source": [
    "## Critical Sections: The Synchronization Problem\n",
    "\n",
    "We are now going to take a deeper look inside synchronization of threads/processes and the principles needed to share data safely. There are two typical goals:\n",
    "* Contention: \n",
    "  * How to resolve the conflicts that result from multiple processes trying to access shared resources?\n",
    "* Cooperation:\n",
    "  * An action by one process may enable another action by another process\n",
    "  * In such cases, processes should coordinate their actions\n",
    "  \n",
    "Maybe do the parable of buying milk to motivate why it is hard....... Or find a better example.\n",
    "\n",
    "Synchronization issues are the major bug in parallel programs\n",
    "* Deadlock: when a program cannot progress because all of it's threads/processes are waiting on resources.\n",
    "* Incorrect results: from uncontrolled sharing (race conditions) on data.\n",
    "\n",
    "The constructs/algorithms underlying critical sections (locks, atomic variables) are complex.\n",
    "Understanding them will help you use them well.\n",
    "\n",
    "  \n",
    "### Mutual Exclusion\n",
    "\n",
    "Mutual exclusion between two processes is the fundamental problemn in \n",
    "\n",
    "\n"
   ]
  }
 ],
 "metadata": {
  "kernelspec": {
   "display_name": "Python 3",
   "language": "python",
   "name": "python3"
  },
  "language_info": {
   "codemirror_mode": {
    "name": "ipython",
    "version": 3
   },
   "file_extension": ".py",
   "mimetype": "text/x-python",
   "name": "python",
   "nbconvert_exporter": "python",
   "pygments_lexer": "ipython3",
   "version": "3.6.8"
  }
 },
 "nbformat": 4,
 "nbformat_minor": 2
}

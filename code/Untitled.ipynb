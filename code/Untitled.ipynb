{
 "cells": [
  {
   "cell_type": "code",
   "execution_count": null,
   "metadata": {},
   "outputs": [],
   "source": [
    "### Flynn's Taxonomy \n",
    "\n",
    "Characterize machines by number of instruction streams and data streams\n",
    "  * Defined in 1972.  Still common practice.\n",
    "  * A little too restrictive, but a starting place\n",
    "\n",
    "### SISD: single instruction, single data\n",
    "\n",
    "Single instruction, single data\n",
    "* The von Neumann architecture\n",
    "  * Implements a universal Turing machine\n",
    "Conforms to serial algorithmic analysis\n",
    "\n",
    "### SIMD: single instruction, multiple data\n",
    "\n",
    "### MISD: multiple instruction, single data\n",
    "Irrelevant.  No such machines.\n",
    "\n",
    "### MIMD: multiple instruction, multiple data\n",
    "\n",
    "\n"
   ]
  }
 ],
 "metadata": {
  "kernelspec": {
   "display_name": "R",
   "language": "R",
   "name": "ir"
  },
  "language_info": {
   "codemirror_mode": "r",
   "file_extension": ".r",
   "mimetype": "text/x-r-source",
   "name": "R",
   "pygments_lexer": "r",
   "version": "3.5.1"
  }
 },
 "nbformat": 4,
 "nbformat_minor": 2
}

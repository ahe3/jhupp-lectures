{
 "cells": [
  {
   "cell_type": "markdown",
   "metadata": {},
   "source": [
    "## Amdahl's Law \n",
    "\n",
    "Improving a portion P of a computation by factor s results in an overall speedup of\n",
    "\n",
    "<img src=\"./images/al1.png\" width=\"256\" title=\"Amdahl's Law Equation\" />\n",
    "\n",
    "* _p_ is the proportion of execution time that benefits from improved resources, i.e. the parallel part\n",
    "* _(1-p)_ is the portion that does not benefit; i.e. the serial part\n",
    "* _s_ is the speedup of the optimized part\n",
    "* _S<sub>latency</sub>(s)_ theoretical speedup of the whole task\n",
    "\n",
    "Paraphrased: speedup limited to fraction improved\n",
    "\n",
    "<img src=\"./images/al2.png\" width=\"512\" title=\"Amdahl's Law Graph\" />\n"
   ]
  },
  {
   "cell_type": "markdown",
   "metadata": {},
   "source": [
    "### Infering parallelism from Amdahl's Law"
   ]
  },
  {
   "cell_type": "code",
   "execution_count": null,
   "metadata": {},
   "outputs": [],
   "source": []
  }
 ],
 "metadata": {
  "kernelspec": {
   "display_name": "R",
   "language": "R",
   "name": "ir"
  },
  "language_info": {
   "codemirror_mode": "r",
   "file_extension": ".r",
   "mimetype": "text/x-r-source",
   "name": "R",
   "pygments_lexer": "r",
   "version": "3.5.1"
  }
 },
 "nbformat": 4,
 "nbformat_minor": 2
}

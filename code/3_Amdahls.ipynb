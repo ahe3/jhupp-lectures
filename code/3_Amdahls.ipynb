{
 "cells": [
  {
   "cell_type": "markdown",
   "metadata": {},
   "source": [
    "## Amdahl's Law \n",
    "\n",
    "Improving a portion P of a computation by factor s results in an overall speedup of\n",
    "\n",
    "<img src=\"./images/al1.png\" width=\"256\" title=\"Amdahl's Law Equation\" />\n",
    "\n",
    "* _p_ is the proportion of execution time that benefits from improved resources, i.e. the parallel part\n",
    "* _(1-p)_ is the portion that does not benefit; i.e. the serial part\n",
    "* _s_ is the speedup of the optimized part\n",
    "* _S<sub>latency</sub>(s)_ theoretical speedup of the whole task\n",
    "\n",
    "Paraphrased: speedup limited to fraction improved\n",
    "\n",
    "<img src=\"./images/al2.png\" width=\"512\" title=\"Amdahl's Law Graph\" />\n",
    "\n",
    "### Visualizing Amdahl's Law\n",
    "\n"
   ]
  },
  {
   "cell_type": "code",
   "execution_count": 7,
   "metadata": {},
   "outputs": [
    {
     "ename": "ERROR",
     "evalue": "Error: `data` must be a data frame, or other object coercible by `fortify()`, not a numeric vector\n",
     "output_type": "error",
     "traceback": [
      "Error: `data` must be a data frame, or other object coercible by `fortify()`, not a numeric vector\nTraceback:\n",
      "1. ggplot(amdahl, aes(x = cores, y = speedup))",
      "2. ggplot.default(amdahl, aes(x = cores, y = speedup))",
      "3. fortify(data, ...)",
      "4. fortify.default(data, ...)",
      "5. stop(msg, call. = FALSE)"
     ]
    }
   ],
   "source": [
    "library(ggplot2)\n",
    "\n",
    "# Let's assume we have a 4 socket x 16 core machine.  So up to 64 cores.\n",
    "cores = seq(1:1:64)\n",
    "\n",
    "# and a parallel fraction of 99%\n",
    "p = .99\n",
    "\n",
    "amdahl = 1/((1-p)+p/cores)\n",
    "\n",
    "ggplot(amdahl, aes(x=cores, y=speedup)) + geom_point + geom_smooth"
   ]
  },
  {
   "cell_type": "markdown",
   "metadata": {},
   "source": [
    "### Infering parallelism from Amdahl's Law"
   ]
  },
  {
   "cell_type": "code",
   "execution_count": null,
   "metadata": {},
   "outputs": [],
   "source": []
  }
 ],
 "metadata": {
  "kernelspec": {
   "display_name": "R",
   "language": "R",
   "name": "ir"
  },
  "language_info": {
   "codemirror_mode": "r",
   "file_extension": ".r",
   "mimetype": "text/x-r-source",
   "name": "R",
   "pygments_lexer": "r",
   "version": "3.5.1"
  }
 },
 "nbformat": 4,
 "nbformat_minor": 2
}

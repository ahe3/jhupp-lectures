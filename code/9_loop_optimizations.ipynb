{
 "cells": [
  {
   "cell_type": "markdown",
   "metadata": {},
   "source": [
    "## Loop Optimization\n",
    "\n",
    "This lecture is almost all by example in file [stencil.c](./openmp/omp_c/stencil.c) which demonstrates successive optimizations to a loop.  These include:\n",
    "\n",
    "* Choosing a memory efficient loop iteration order\n",
    "  * xy or yx iteration order for 2-d array\n",
    "* Choose which loop to optimize\n",
    "  * Identify which loop produces adequate parallelism.\n",
    "  * This is more important in your homework than stencil.\n",
    "* Unroll loops to minimize branching inside loops\n",
    "  * How many instructions does this eliminate?\n",
    "* Fuse loops to reduce startup costs (shown in `array_sum`)\n",
    "* Seperate dependencies and use reductions\n",
    "\n",
    "### Other Optimizations\n",
    "\n",
    "* Split loops"
   ]
  }
 ],
 "metadata": {
  "kernelspec": {
   "display_name": "Python 3",
   "language": "python",
   "name": "python3"
  },
  "language_info": {
   "codemirror_mode": {
    "name": "ipython",
    "version": 3
   },
   "file_extension": ".py",
   "mimetype": "text/x-python",
   "name": "python",
   "nbconvert_exporter": "python",
   "pygments_lexer": "ipython3",
   "version": "3.6.6"
  }
 },
 "nbformat": 4,
 "nbformat_minor": 2
}

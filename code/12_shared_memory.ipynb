{
 "cells": [
  {
   "cell_type": "markdown",
   "metadata": {},
   "source": [
    "### Shared Memory Systems\n",
    "\n",
    "* Large class defined by memory model\n",
    "  * And thus, the programming model\n",
    "* In shared-memory programming, \n",
    "  * parallel _threads_ \n",
    "  * exchange information through reads and writes to shared memory.\n",
    "  * synchronization constructs  control sharing\n",
    "* Easy to use abstraction\n",
    "* Examples\n",
    "  * OpenMP, Java, pthreads, C++ threads\n",
    "  \n",
    "<img src=\"https://computing.llnl.gov/tutorials/parallel_comp/images/uma.gif\" width=\"512\" title=\"Uniform Shared Memory System\" />\n"
   ]
  }
 ],
 "metadata": {
  "kernelspec": {
   "display_name": "R",
   "language": "R",
   "name": "ir"
  },
  "language_info": {
   "codemirror_mode": "r",
   "file_extension": ".r",
   "mimetype": "text/x-r-source",
   "name": "R",
   "pygments_lexer": "r",
   "version": "3.5.1"
  }
 },
 "nbformat": 4,
 "nbformat_minor": 2
}

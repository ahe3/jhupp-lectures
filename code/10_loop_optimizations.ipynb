{
 "cells": [
  {
   "cell_type": "markdown",
   "metadata": {},
   "source": [
    "## Loop Optimization\n",
    "\n",
    "This lecture is almost all by example in file [stencil.c](./openmp/omp_c/stencil.c) which demonstrates successive optimizations to a loop.  These include:\n",
    "\n",
    "* Choosing a memory efficient loop iteration order\n",
    "* Choose which loop to optimize\n",
    "  * Identify which loop produces adequate parallelism\n",
    "  * This is more important in your homework than stencil.\n",
    "* Unroll loops to \n",
    "* Fuse loops to reduce startup costs (shown in `array_sum`\n",
    "* \n",
    "\n",
    "* Make loops bigger to eliminate startup costs\n",
    "  * Loop fusion\n",
    "\n",
    "* Loop unrolling\n",
    "\n",
    "Get more parallelism\n",
    "Coalesce inner and outer loops\n",
    "Improve memory access patterns\n",
    "Access by row rather than column\n",
    "Tile loops\n",
    "Use reductions\n"
   ]
  }
 ],
 "metadata": {
  "kernelspec": {
   "display_name": "Python 3",
   "language": "python",
   "name": "python3"
  },
  "language_info": {
   "codemirror_mode": {
    "name": "ipython",
    "version": 3
   },
   "file_extension": ".py",
   "mimetype": "text/x-python",
   "name": "python",
   "nbconvert_exporter": "python",
   "pygments_lexer": "ipython3",
   "version": "3.6.6"
  }
 },
 "nbformat": 4,
 "nbformat_minor": 2
}
